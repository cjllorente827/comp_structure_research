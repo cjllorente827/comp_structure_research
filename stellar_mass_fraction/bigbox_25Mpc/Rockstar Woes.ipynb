{
 "cells": [
  {
   "cell_type": "markdown",
   "metadata": {},
   "source": [
    "# Rockstar Woes\n",
    "\n",
    "\n",
    "\n",
    "# Why do these graphs contain so many haloes with significantly higher-than average stellar mass fractions? \n",
    "![Example of setting FORCE_RES parameter incorrectly](bad_FORCE_RES.png)\n",
    "\n",
    "## Possibility 1. \n",
    "\n",
    "The extra halos are noise. Rockstar uses a `FORCE_RES` parameter that comes with this description in the documentation:\n",
    "\n",
    "![Rockstar documentation](FORCE_RES_doc.png)\n",
    "\n",
    "From the yt documentation: \n",
    "\n",
    "![yt documentation](yt_FORCE_RES_doc.png)\n",
    "\n",
    "## Possibility 2. \n",
    "\n",
    "Rockstar is outputting subhalos surrounding the center of the host halo like so:\n",
    "\n",
    "![bad halos](bad_halos.png)\n",
    "\n",
    "![bad halos zoom](bad_halos_zoom.png)\n",
    "\n",
    "One solution is to remove these halos in post by filtering out subhalos, defined as the smaller of two halos that are separated by a distance less than some fraction of the smaller halo's radius.\n",
    "\n",
    "Britton Smith has included a filter in the yt astro analysis code to do just this.\n",
    "\n",
    "https://github.com/yt-project/yt_astro_analysis/blob/master/yt_astro_analysis/halo_analysis/halo_filters.py\n",
    "\n",
    "Example:\n",
    "\n",
    "```\n",
    "        hc = HaloCatalog(data_ds=ds, halos_ds=hds)\n",
    "        hc.add_filter('not_subhalo')\n",
    "        hc.load()\n",
    "\n",
    "```\n",
    "\n",
    "\n",
    "\n",
    "## Possibility 3. The MIN_HALO_OUTPUT_SIZE parameter\n",
    "\n",
    "This is the difference between a MIN_HALO_OUTPUT_SIZE of 25  with post-processed subhalos removed (first pic) vs a MIN_HALO_OUTPUT_SIZE of 500 (second pic) and 1000 (third pic)\n",
    "\n",
    "![setting_25](bad_FORCE_RES.png)\n",
    "\n",
    "![setting_500](MHOS_500.png)\n",
    "\n",
    "![setting_1000](MHOS_1000.png)\n",
    "\n",
    "\n",
    "One way to choose a good value for MIN_HALO_OUTPUT_SIZE is to consider the mass of the highest-resolution dark matter particle, then choose a minimum halo mass to look at. Dividing the minimum halo mass by the particle mass gives a reasonable number of particles. "
   ]
  },
  {
   "cell_type": "code",
   "execution_count": null,
   "metadata": {},
   "outputs": [],
   "source": []
  }
 ],
 "metadata": {
  "kernelspec": {
   "display_name": "Python 3",
   "language": "python",
   "name": "python3"
  },
  "language_info": {
   "codemirror_mode": {
    "name": "ipython",
    "version": 3
   },
   "file_extension": ".py",
   "mimetype": "text/x-python",
   "name": "python",
   "nbconvert_exporter": "python",
   "pygments_lexer": "ipython3",
   "version": "3.7.6"
  }
 },
 "nbformat": 4,
 "nbformat_minor": 4
}
